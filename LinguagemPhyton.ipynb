{
  "nbformat": 4,
  "nbformat_minor": 0,
  "metadata": {
    "colab": {
      "provenance": [],
      "authorship_tag": "ABX9TyMTr0qdBr6BMUHWL0BxdoA6",
      "include_colab_link": true
    },
    "kernelspec": {
      "name": "python3",
      "display_name": "Python 3"
    },
    "language_info": {
      "name": "python"
    }
  },
  "cells": [
    {
      "cell_type": "markdown",
      "metadata": {
        "id": "view-in-github",
        "colab_type": "text"
      },
      "source": [
        "<a href=\"https://colab.research.google.com/github/Domingos336/Engsoft/blob/main/LinguagemPhyton.ipynb\" target=\"_parent\"><img src=\"https://colab.research.google.com/assets/colab-badge.svg\" alt=\"Open In Colab\"/></a>"
      ]
    },
    {
      "cell_type": "code",
      "source": [
        "numeros = [1, 2, 3, 4, 5]\n",
        "numeros"
      ],
      "metadata": {
        "colab": {
          "base_uri": "https://localhost:8080/"
        },
        "id": "LTtFJlm_amLK",
        "outputId": "59f5656b-3ce8-4470-b200-f82613b2fb94"
      },
      "execution_count": 2,
      "outputs": [
        {
          "output_type": "execute_result",
          "data": {
            "text/plain": [
              "[1, 2, 3, 4, 5]"
            ]
          },
          "metadata": {},
          "execution_count": 2
        }
      ]
    },
    {
      "cell_type": "code",
      "source": [
        "for num in numeros:\n",
        "      print(num)"
      ],
      "metadata": {
        "colab": {
          "base_uri": "https://localhost:8080/"
        },
        "id": "mA1_Fv8TbYJs",
        "outputId": "c4d08130-47d5-43ea-b5eb-8752c6006cda"
      },
      "execution_count": 3,
      "outputs": [
        {
          "output_type": "stream",
          "name": "stdout",
          "text": [
            "1\n",
            "2\n",
            "3\n",
            "4\n",
            "5\n"
          ]
        }
      ]
    },
    {
      "cell_type": "code",
      "source": [
        "numero = int(input(\"Digite um número (ou 0 para sair): \"))\n",
        "\n",
        "while numero != 0:\n",
        "    if numero % 2 == 0:\n",
        "       print(\"O número é par.\")\n",
        "    else:\n",
        "       print(\"O número é ímpar.\")\n",
        "    numero = int(input(\"Digite um número (ou 0 para sair:)\"))"
      ],
      "metadata": {
        "colab": {
          "base_uri": "https://localhost:8080/"
        },
        "id": "AG6voHCRbyF_",
        "outputId": "d600c1d4-dbb4-4661-a0df-33cd0cda663d"
      },
      "execution_count": 69,
      "outputs": [
        {
          "name": "stdout",
          "output_type": "stream",
          "text": [
            "Digite um número (ou 0 para sair): 6654536323456789\n",
            "O número é ímpar.\n",
            "Digite um número (ou 0 para sair:)5428\n",
            "O número é par.\n",
            "Digite um número (ou 0 para sair:)0\n"
          ]
        }
      ]
    },
    {
      "cell_type": "code",
      "source": [
        "for x in range(3): #lembre-se que o range começa em 0\n",
        "    print(x)"
      ],
      "metadata": {
        "colab": {
          "base_uri": "https://localhost:8080/"
        },
        "id": "pLtcsiyHdidz",
        "outputId": "7310845f-d328-45e0-81af-902df043527f"
      },
      "execution_count": 74,
      "outputs": [
        {
          "output_type": "stream",
          "name": "stdout",
          "text": [
            "0\n",
            "1\n",
            "2\n"
          ]
        }
      ]
    },
    {
      "cell_type": "code",
      "source": [
        "for y in range(15, 17): #observe que aqui o 7 não entra no looping\n",
        "    print(y)"
      ],
      "metadata": {
        "colab": {
          "base_uri": "https://localhost:8080/"
        },
        "id": "w34ctyUMeB-B",
        "outputId": "271964c3-41ac-42a3-dd9c-8a0fbcd316a7"
      },
      "execution_count": 76,
      "outputs": [
        {
          "output_type": "stream",
          "name": "stdout",
          "text": [
            "15\n",
            "16\n"
          ]
        }
      ]
    },
    {
      "cell_type": "code",
      "source": [
        "for z in range(0, 10, 1): #observe que aqui o 11 não entra no looping\n",
        "    print(z)"
      ],
      "metadata": {
        "colab": {
          "base_uri": "https://localhost:8080/"
        },
        "id": "k8aYmzINeRHw",
        "outputId": "afb784a0-bfd7-455c-f1f3-7902e3eea641"
      },
      "execution_count": 82,
      "outputs": [
        {
          "output_type": "stream",
          "name": "stdout",
          "text": [
            "0\n",
            "1\n",
            "2\n",
            "3\n",
            "4\n",
            "5\n",
            "6\n",
            "7\n",
            "8\n",
            "9\n"
          ]
        }
      ]
    },
    {
      "cell_type": "code",
      "source": [
        "for numero in range(1, 20):\n",
        "    if numero % 2 == 0:\n",
        "      print(\"O primeiro número encontrado é:\", numero)\n",
        "      break"
      ],
      "metadata": {
        "colab": {
          "base_uri": "https://localhost:8080/"
        },
        "id": "iTxYAbRlfj9f",
        "outputId": "cae70e60-cf6c-4490-b25a-208f96a13c1e"
      },
      "execution_count": 56,
      "outputs": [
        {
          "output_type": "stream",
          "name": "stdout",
          "text": [
            "O primeiro número encontrado é: 12\n"
          ]
        }
      ]
    },
    {
      "cell_type": "code",
      "source": [
        "for numero in range(1, 11):\n",
        "  if numero == 6:\n",
        "    continue\n",
        "\n",
        "  print(numero)"
      ],
      "metadata": {
        "colab": {
          "base_uri": "https://localhost:8080/"
        },
        "id": "nd04kzJqgqNA",
        "outputId": "ca6c9136-079e-48de-9cd0-91e6b0642188"
      },
      "execution_count": 95,
      "outputs": [
        {
          "output_type": "stream",
          "name": "stdout",
          "text": [
            "1\n",
            "2\n",
            "3\n",
            "4\n",
            "5\n",
            "7\n",
            "8\n",
            "9\n",
            "10\n"
          ]
        }
      ]
    },
    {
      "cell_type": "code",
      "source": [
        "# Lista de filmes para classificação\n",
        "filmes = [\"Um Sonho de Liberdade\", \"O Poderoso Chefão\", \"Batman: O Cavaleiro das Trevas\", \"O Senhor dos Anéis: O Retorno do Rei\", \"Como treinar seu Dragão\"]\n",
        "\n",
        "# Mensagens de boas-vindas\n",
        "print(\"Bem-vindo a noossa classificação de filmes!\")\n",
        "print(\"Você tem cinco filmes para classificar.\")\n",
        "print(\"Digite '0' a qualquer momento se deseja encerrar está operação.\\n\")\n",
        "\n",
        "# Loop para iterar sobre cada filme na lista\n",
        "for filme in filmes:\n",
        "    # Solicita a classificação ao usuário\n",
        "    classificacao = input(f\"Como você classificaria '{filme}' de 1 a 5? (ou 0 para parar): \")\n",
        "\n",
        "    # Verifica se o usuário deseja parar\n",
        "    if classificacao == '0':\n",
        "      print(\"Que pena que você não irá classificar os nossos filmes.\")\n",
        "      break  #Encerra o loop principal\n",
        "\n",
        "      # Converte a classificação para um número inteiro\n",
        "      classificacao = int(classificacao)\n",
        "\n",
        "      # Verifica se a classificação está dentro do intervalo válido\n",
        "    if classificacao < 1 or classificacao > 5:\n",
        "        print(\"Por favor, digite uma classificação válida de 1 a 5.\")\n",
        "    else:\n",
        "      # Exibe a classificação e passa para o próximo filme\n",
        "      print(f\"Você classificou '{filme}' com {classificacao} estrelas. \\n\")\n",
        "\n",
        "# Mensagem de agradecimento ao finalizar\n",
        "print(\"Obrigado por classificar os filmes!\")\n",
        "\n"
      ],
      "metadata": {
        "colab": {
          "base_uri": "https://localhost:8080/"
        },
        "id": "Zmi4D7_trhJH",
        "outputId": "486707f5-b8e2-4eda-d33b-740169f79d83"
      },
      "execution_count": null,
      "outputs": [
        {
          "output_type": "stream",
          "name": "stdout",
          "text": [
            "Bem-vindo a noossa classificação de filmes!\n",
            "Você tem cinco filmes para classificar.\n",
            "Digite '0' a qualquer momento se deseja encerrar está operação.\n",
            "\n"
          ]
        }
      ]
    }
  ]
}